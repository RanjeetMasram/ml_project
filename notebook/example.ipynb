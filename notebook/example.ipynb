{
 "cells": [
  {
   "cell_type": "markdown",
   "metadata": {},
   "source": [
    "# `__repr__` method\n",
    "\n",
    "In Python, `__repr__` is a special method used to represent a class's objects as a string. `__repr__` is called by the repr() built-in function. You can define your own string representation of your class objects using the `__repr__` method. Special methods are a set of predefined methods used to enrich your classes.\n",
    "\n",
    "The `__str__` method returns a string representation of an object that is human-readable while the `__repr__` method returns a string representation of an object that is machine-readable.\n",
    "\n"
   ]
  },
  {
   "cell_type": "code",
   "execution_count": 3,
   "metadata": {},
   "outputs": [
    {
     "name": "stdout",
     "output_type": "stream",
     "text": [
      "<__main__.Person object at 0x0000027F75972780>\n"
     ]
    }
   ],
   "source": [
    "# repr method example\n",
    "class Person:\n",
    "    def __init__(self, first_name, last_name, age):\n",
    "        self.first_name = first_name\n",
    "        self.last_name = last_name\n",
    "        self.age = age\n",
    "person = Person('John', 'Doe', 25)\n",
    "print(repr(person))"
   ]
  },
  {
   "cell_type": "code",
   "execution_count": 1,
   "metadata": {},
   "outputs": [
    {
     "name": "stdout",
     "output_type": "stream",
     "text": [
      "Person(John,20)\n"
     ]
    }
   ],
   "source": [
    "# A simple Person class\n",
    "\n",
    "class Person:\n",
    "    def __init__(self, name, age):\n",
    "        self.name = name\n",
    "        self.age = age\n",
    "\n",
    "    def __repr__(self):\n",
    "        rep = 'Person(' + self.name + ',' + str(self.age) + ')'\n",
    "        return rep\n",
    "\n",
    "\n",
    "# Let's make a Person object and print the results of repr()\n",
    "\n",
    "person = Person(\"John\", 20)\n",
    "print(repr(person))"
   ]
  },
  {
   "cell_type": "code",
   "execution_count": 52,
   "metadata": {},
   "outputs": [
    {
     "name": "stdout",
     "output_type": "stream",
     "text": [
      "John20\n",
      "John20\n"
     ]
    }
   ],
   "source": [
    "# A simple Person class\n",
    "\n",
    "class Person(object):\n",
    "    def __init__(self, name, age):\n",
    "        super().__init__()\n",
    "        self.name = name\n",
    "        self.age = age\n",
    "        self.details = Person.get_person_details(name=name, age=age)\n",
    "\n",
    "    @staticmethod\n",
    "    def get_person_details(name:str, age:str)->str:\n",
    "        details = name + str(age)\n",
    "        return details\n",
    "\n",
    "    def __str__(self):\n",
    "        return self.details\n",
    "\n",
    "    def __repr__(self):\n",
    "        return Person.__str__(self)\n",
    "\n",
    "\n",
    "# Let's make a Person object and print the results of repr()\n",
    "\n",
    "a = Person(\"John\", 20)\n",
    "print(a)\n",
    "print(repr(a))"
   ]
  },
  {
   "cell_type": "code",
   "execution_count": 1,
   "metadata": {},
   "outputs": [],
   "source": [
    "from collections import namedtuple"
   ]
  },
  {
   "cell_type": "markdown",
   "metadata": {},
   "source": [
    "1. Download url\n",
    "2. Download Folder (compress)"
   ]
  },
  {
   "cell_type": "code",
   "execution_count": 2,
   "metadata": {},
   "outputs": [],
   "source": [
    "DataIngestionConfig = namedtuple(\"DataIngestionConfig\",\n",
    "[\"dataset_download_url\", \"tgz_download_dir\", \"raw_data_dir\", \"ingested_train_dir\", \"ingested_test_dir\"])"
   ]
  },
  {
   "cell_type": "code",
   "execution_count": 3,
   "metadata": {},
   "outputs": [
    {
     "data": {
      "text/plain": [
       "'d:\\\\Study\\\\ML_AI\\\\Ineuron\\\\New Full Stack Data Science\\\\16 Projects\\\\ml_project\\\\notebook'"
      ]
     },
     "execution_count": 3,
     "metadata": {},
     "output_type": "execute_result"
    }
   ],
   "source": [
    "import os\n",
    "os.getcwd()"
   ]
  },
  {
   "cell_type": "code",
   "execution_count": 4,
   "metadata": {},
   "outputs": [],
   "source": [
    "os.chdir(\"d:\\\\Study\\\\ML_AI\\\\Ineuron\\\\New Full Stack Data Science\\\\16 Projects\\\\ml_project\")"
   ]
  },
  {
   "cell_type": "code",
   "execution_count": 5,
   "metadata": {},
   "outputs": [
    {
     "data": {
      "text/plain": [
       "'d:\\\\Study\\\\ML_AI\\\\Ineuron\\\\New Full Stack Data Science\\\\16 Projects\\\\ml_project'"
      ]
     },
     "execution_count": 5,
     "metadata": {},
     "output_type": "execute_result"
    }
   ],
   "source": [
    "os.getcwd()"
   ]
  },
  {
   "cell_type": "code",
   "execution_count": null,
   "metadata": {},
   "outputs": [],
   "source": []
  }
 ],
 "metadata": {
  "kernelspec": {
   "display_name": "Python 3.7.0 (conda)",
   "language": "python",
   "name": "python3"
  },
  "language_info": {
   "codemirror_mode": {
    "name": "ipython",
    "version": 3
   },
   "file_extension": ".py",
   "mimetype": "text/x-python",
   "name": "python",
   "nbconvert_exporter": "python",
   "pygments_lexer": "ipython3",
   "version": "3.7.0"
  },
  "orig_nbformat": 4,
  "vscode": {
   "interpreter": {
    "hash": "9f550a1e5d7c9a3692b4250c734b67326678bebbdd03f569c3a29858bf831869"
   }
  }
 },
 "nbformat": 4,
 "nbformat_minor": 2
}
